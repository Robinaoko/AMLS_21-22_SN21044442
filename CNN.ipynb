{
 "cells": [
  {
   "cell_type": "code",
   "execution_count": 1,
   "id": "93dba146",
   "metadata": {},
   "outputs": [],
   "source": [
    "import numpy as np\n",
    "import pandas as pd\n",
    "import matplotlib.pyplot as plt\n",
    "\n",
    "from sklearn import svm, metrics\n",
    "from sklearn.utils import Bunch\n",
    "from sklearn.model_selection import GridSearchCV, train_test_split\n",
    "from sklearn.svm import SVC\n",
    "from sklearn.metrics import classification_report,accuracy_score\n",
    "from sklearn.decomposition import PCA\n",
    "\n",
    "import skimage.io as io\n",
    "from skimage.io import imread\n",
    "from skimage.transform import resize\n",
    "from PIL import Image\n",
    "\n",
    "import os\n",
    "from tqdm import tqdm\n",
    "from glob import glob"
   ]
  },
  {
   "cell_type": "code",
   "execution_count": 2,
   "id": "dabd0515",
   "metadata": {},
   "outputs": [
    {
     "name": "stderr",
     "output_type": "stream",
     "text": [
      "100%|██████████| 3000/3000 [00:12<00:00, 244.19it/s]\n"
     ]
    }
   ],
   "source": [
    "train_path = 'image/'\n",
    "tumor_label=pd.read_csv('label.csv')\n",
    "img_size = 200\n",
    "label = []\n",
    "nub_train = len(glob(train_path + '/*.jpg'))\n",
    "image_data = np.zeros((nub_train,img_size,img_size,3),dtype=np.uint8)\n",
    "\n",
    "i = 0   \n",
    "for img_path in tqdm(glob(train_path + '/*.jpg')):\n",
    "    img = Image.open(img_path)\n",
    "    img = img.resize((img_size,img_size)) #图片resize\n",
    "    arr = np.asarray(img) #图片转array\n",
    "    image_data[i, :, :, :] = arr #赋值\n",
    "    i += 1\n",
    "\n",
    "for i in range(3000):\n",
    "    data = tumor_label['label'][i]\n",
    "    if data == 'no_tumor':\n",
    "        label.append(data)\n",
    "    else :\n",
    "        label.append('yes_tumor')    \n",
    "    \n",
    "    \n",
    "image_data = np.array(image_data,dtype='float32')/255.0\n",
    "label = np.array(label)\n"
   ]
  },
  {
   "cell_type": "code",
   "execution_count": 3,
   "id": "1a5d6cc3",
   "metadata": {},
   "outputs": [],
   "source": [
    "image_data = image_data.reshape(image_data.shape[0],-1)"
   ]
  },
  {
   "cell_type": "code",
   "execution_count": 4,
   "id": "5efcd98e",
   "metadata": {},
   "outputs": [
    {
     "name": "stdout",
     "output_type": "stream",
     "text": [
      "765\n"
     ]
    }
   ],
   "source": [
    "def PCAPredict(X, k):\n",
    "    \n",
    "    pca = PCA(n_components=k)\n",
    "    X_new = pca.fit_transform(X)  \n",
    "    #Variance = pca.explained_variance_ratio_\n",
    "    ncomp = pca.n_components_\n",
    "    return X_new, ncomp\n",
    "\n",
    "k1 = 0.95\n",
    "X_new, ncomp = PCAPredict(image_data,k1)\n",
    "#print(Variance)\n",
    "print(ncomp)"
   ]
  },
  {
   "cell_type": "code",
   "execution_count": 5,
   "id": "33e783d6",
   "metadata": {},
   "outputs": [],
   "source": [
    "x_train, x_test, y_train, y_test = train_test_split(X_new, label, test_size=0.3, random_state=3)"
   ]
  },
  {
   "cell_type": "code",
   "execution_count": 9,
   "id": "ad7650e6",
   "metadata": {},
   "outputs": [
    {
     "name": "stdout",
     "output_type": "stream",
     "text": [
      "神经网络模型评价: 0.9122222222222223\n"
     ]
    }
   ],
   "source": [
    "import sklearn.neural_network as sk_nn\n",
    "model = sk_nn.MLPClassifier(activation='tanh',solver='adam',alpha=0.0001,learning_rate='adaptive',learning_rate_init=0.001,max_iter=200)\n",
    "model.fit(x_train,y_train)\n",
    "acc=model.score(x_test,y_test) #根据给定数据与标签返回正确率的均值\n",
    "print('神经网络模型评价:',acc)"
   ]
  },
  {
   "cell_type": "code",
   "execution_count": null,
   "id": "91fd8f39",
   "metadata": {},
   "outputs": [],
   "source": []
  }
 ],
 "metadata": {
  "kernelspec": {
   "display_name": "Python 3 (ipykernel)",
   "language": "python",
   "name": "python3"
  },
  "language_info": {
   "codemirror_mode": {
    "name": "ipython",
    "version": 3
   },
   "file_extension": ".py",
   "mimetype": "text/x-python",
   "name": "python",
   "nbconvert_exporter": "python",
   "pygments_lexer": "ipython3",
   "version": "3.8.11"
  },
  "latex_envs": {
   "LaTeX_envs_menu_present": true,
   "autoclose": false,
   "autocomplete": true,
   "bibliofile": "biblio.bib",
   "cite_by": "apalike",
   "current_citInitial": 1,
   "eqLabelWithNumbers": true,
   "eqNumInitial": 1,
   "hotkeys": {
    "equation": "Ctrl-E",
    "itemize": "Ctrl-I"
   },
   "labels_anchors": false,
   "latex_user_defs": false,
   "report_style_numbering": false,
   "user_envs_cfg": false
  }
 },
 "nbformat": 4,
 "nbformat_minor": 5
}
