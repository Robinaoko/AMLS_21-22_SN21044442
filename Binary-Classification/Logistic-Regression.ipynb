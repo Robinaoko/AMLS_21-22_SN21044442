{
 "cells": [
  {
   "cell_type": "code",
   "execution_count": 24,
   "id": "eae5c06e",
   "metadata": {},
   "outputs": [],
   "source": [
    "import numpy as np\n",
    "import pandas as pd\n",
    "import matplotlib.pyplot as plt\n",
    "\n",
    "from sklearn import svm, metrics\n",
    "from sklearn.utils import Bunch\n",
    "from sklearn.model_selection import GridSearchCV, train_test_split\n",
    "from sklearn.svm import SVC\n",
    "from sklearn.metrics import classification_report,accuracy_score\n",
    "from sklearn.decomposition import PCA\n",
    "from sklearn.linear_model import LogisticRegression\n",
    "from sklearn import preprocessing\n",
    "\n",
    "import skimage.io as io\n",
    "from skimage.io import imread\n",
    "from skimage.transform import resize\n",
    "from PIL import Image\n",
    "\n",
    "import os\n",
    "from tqdm import tqdm\n",
    "from glob import glob"
   ]
  },
  {
   "cell_type": "code",
   "execution_count": 25,
   "id": "e215deb3",
   "metadata": {},
   "outputs": [
    {
     "name": "stderr",
     "output_type": "stream",
     "text": [
      "100%|██████████| 3000/3000 [00:11<00:00, 254.23it/s]\n"
     ]
    }
   ],
   "source": [
    "#导入图像并转化为numpy数组\n",
    "train_path = 'image/'\n",
    "tumor_label=pd.read_csv('label.csv')\n",
    "img_size = 200\n",
    "label = []\n",
    "nub_train = len(glob(train_path + '/*.jpg'))\n",
    "image_data = np.zeros((nub_train,img_size,img_size,3),dtype=np.uint8)\n",
    "\n",
    "i = 0   \n",
    "for img_path in tqdm(glob(train_path + '/*.jpg')):\n",
    "    img = Image.open(img_path)\n",
    "    img = img.resize((img_size,img_size)) #图片resize\n",
    "    arr = np.asarray(img) #图片转array\n",
    "    image_data[i, :, :, :] = arr #赋值\n",
    "    i += 1\n",
    "\n",
    "for i in range(3000):\n",
    "    data = tumor_label['label'][i]\n",
    "    if data == 'no_tumor':\n",
    "        label.append(data)\n",
    "    else :\n",
    "        label.append('yes_tumor')    \n",
    "    \n",
    "    \n",
    "image_data = np.array(image_data,dtype='float32')/255.0\n",
    "label = np.array(label)"
   ]
  },
  {
   "cell_type": "code",
   "execution_count": 28,
   "id": "21c94f69",
   "metadata": {},
   "outputs": [],
   "source": [
    "new_image = np.delete(image_data, [1,2], axis=3 )"
   ]
  },
  {
   "cell_type": "code",
   "execution_count": 5,
   "id": "43a41ca0",
   "metadata": {},
   "outputs": [],
   "source": [
    "#image_data = image_data.reshape(image_data.shape[0],-1)"
   ]
  },
  {
   "cell_type": "code",
   "execution_count": 35,
   "id": "376db4d7",
   "metadata": {},
   "outputs": [],
   "source": [
    "new_image = new_image.reshape(new_image.shape[0],-1)"
   ]
  },
  {
   "cell_type": "code",
   "execution_count": 36,
   "id": "d0fe3251",
   "metadata": {},
   "outputs": [
    {
     "data": {
      "text/plain": [
       "(3000, 40000)"
      ]
     },
     "execution_count": 36,
     "metadata": {},
     "output_type": "execute_result"
    }
   ],
   "source": [
    "new_image.shape"
   ]
  },
  {
   "cell_type": "code",
   "execution_count": 38,
   "id": "7e36ec05",
   "metadata": {},
   "outputs": [
    {
     "name": "stdout",
     "output_type": "stream",
     "text": [
      "765\n"
     ]
    }
   ],
   "source": [
    "def PCAPredict(X, k):\n",
    "    \n",
    "    pca = PCA(n_components=k)\n",
    "    X_new = pca.fit_transform(X)  \n",
    "    #Variance = pca.explained_variance_ratio_\n",
    "    ncomp = pca.n_components_\n",
    "    return X_new, ncomp\n",
    "\n",
    "k1 = 0.95\n",
    "X_new, ncomp = PCAPredict(new_image,k1)\n",
    "#print(Variance)\n",
    "print(ncomp)"
   ]
  },
  {
   "cell_type": "code",
   "execution_count": 39,
   "id": "933e9a17",
   "metadata": {},
   "outputs": [],
   "source": [
    "x_train, x_test, y_train, y_test = train_test_split(X_new, label, test_size=0.3, random_state=3)"
   ]
  },
  {
   "cell_type": "code",
   "execution_count": 40,
   "id": "e75a7cf4",
   "metadata": {},
   "outputs": [],
   "source": [
    "scaler = preprocessing.StandardScaler()\n",
    "x_train = scaler.fit_transform(x_train)\n",
    "x_test = scaler.transform(x_test)"
   ]
  },
  {
   "cell_type": "code",
   "execution_count": 41,
   "id": "09b22819",
   "metadata": {},
   "outputs": [
    {
     "name": "stdout",
     "output_type": "stream",
     "text": [
      "Accuracy on test set: 0.92\n",
      "              precision    recall  f1-score   support\n",
      "\n",
      "    no_tumor       0.77      0.69      0.73       138\n",
      "   yes_tumor       0.94      0.96      0.95       762\n",
      "\n",
      "    accuracy                           0.92       900\n",
      "   macro avg       0.86      0.83      0.84       900\n",
      "weighted avg       0.92      0.92      0.92       900\n",
      "\n"
     ]
    }
   ],
   "source": [
    "def logRegrPredict(x_train, y_train,xtest ):\n",
    "    logreg = LogisticRegression(penalty='l2',C=1.0, solver='lbfgs', max_iter=1000)\n",
    "    logreg.fit(x_train, y_train)\n",
    "    y_pred= logreg.predict(xtest)\n",
    "    return y_pred\n",
    "\n",
    "y_pred = logRegrPredict(x_train, y_train,x_test)\n",
    "print('Accuracy on test set: '+str(accuracy_score(y_test,y_pred)))\n",
    "print(classification_report(y_test,y_pred))#text report showing the main classification metrics"
   ]
  },
  {
   "cell_type": "code",
   "execution_count": null,
   "id": "038afd19",
   "metadata": {},
   "outputs": [],
   "source": []
  }
 ],
 "metadata": {
  "kernelspec": {
   "display_name": "Python 3 (ipykernel)",
   "language": "python",
   "name": "python3"
  },
  "language_info": {
   "codemirror_mode": {
    "name": "ipython",
    "version": 3
   },
   "file_extension": ".py",
   "mimetype": "text/x-python",
   "name": "python",
   "nbconvert_exporter": "python",
   "pygments_lexer": "ipython3",
   "version": "3.8.11"
  },
  "latex_envs": {
   "LaTeX_envs_menu_present": true,
   "autoclose": false,
   "autocomplete": true,
   "bibliofile": "biblio.bib",
   "cite_by": "apalike",
   "current_citInitial": 1,
   "eqLabelWithNumbers": true,
   "eqNumInitial": 1,
   "hotkeys": {
    "equation": "Ctrl-E",
    "itemize": "Ctrl-I"
   },
   "labels_anchors": false,
   "latex_user_defs": false,
   "report_style_numbering": false,
   "user_envs_cfg": false
  }
 },
 "nbformat": 4,
 "nbformat_minor": 5
}
