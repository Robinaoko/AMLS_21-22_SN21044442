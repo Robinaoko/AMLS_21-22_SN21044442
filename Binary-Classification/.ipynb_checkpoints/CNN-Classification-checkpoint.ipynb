{
 "cells": [
  {
   "cell_type": "code",
   "execution_count": 30,
   "id": "d004a705",
   "metadata": {},
   "outputs": [],
   "source": [
    "import numpy as np\n",
    "import pandas as pd\n",
    "import matplotlib.pyplot as plt\n",
    "from sklearn import svm, metrics\n",
    "from sklearn.utils import Bunch\n",
    "from sklearn.model_selection import GridSearchCV, train_test_split\n",
    "from sklearn.metrics import classification_report,accuracy_score\n",
    "from sklearn.decomposition import PCA\n",
    "import tensorflow as tf\n",
    "from tensorflow import keras\n",
    "from tensorflow.keras import layers, models\n",
    "import skimage.io as io\n",
    "from skimage.io import imread\n",
    "from skimage.transform import resize\n",
    "from PIL import Image\n",
    "import os\n",
    "from tqdm import tqdm\n",
    "from glob import glob"
   ]
  },
  {
   "cell_type": "code",
   "execution_count": 31,
   "id": "15690357",
   "metadata": {},
   "outputs": [
    {
     "name": "stderr",
     "output_type": "stream",
     "text": [
      "100%|██████████| 3000/3000 [00:11<00:00, 254.81it/s]\n"
     ]
    }
   ],
   "source": [
    "#import image\n",
    "train_path = 'image/'\n",
    "tumor_label=pd.read_csv('label.csv')\n",
    "img_size = 200\n",
    "label = []\n",
    "nub_train = len(glob(train_path + '/*.jpg'))\n",
    "image_data = np.zeros((nub_train,img_size,img_size,3),dtype=np.uint8)\n",
    "\n",
    "i = 0   \n",
    "for img_path in tqdm(glob(train_path + '/*.jpg')):\n",
    "    img = Image.open(img_path)\n",
    "    img = img.resize((img_size,img_size)) \n",
    "    arr = np.asarray(img) \n",
    "    image_data[i, :, :, :] = arr \n",
    "    i += 1\n",
    "\n",
    "for i in range(3000):\n",
    "    data = tumor_label['label'][i]\n",
    "    if data == 'no_tumor':\n",
    "        label.append(0)\n",
    "    else :\n",
    "        label.append(1)    \n",
    "    \n",
    "    \n",
    "image_data = np.array(image_data,dtype='float32')/255.0\n",
    "label = np.array(label)"
   ]
  },
  {
   "cell_type": "code",
   "execution_count": 32,
   "id": "ea330297",
   "metadata": {},
   "outputs": [
    {
     "data": {
      "text/plain": [
       "(3000, 200, 200, 3)"
      ]
     },
     "execution_count": 32,
     "metadata": {},
     "output_type": "execute_result"
    }
   ],
   "source": [
    "image_data.shape"
   ]
  },
  {
   "cell_type": "code",
   "execution_count": 33,
   "id": "a532e8ca",
   "metadata": {},
   "outputs": [],
   "source": [
    "x_train, x_test, y_train, y_test = train_test_split(image_data, label, test_size=0.2, random_state=3)"
   ]
  },
  {
   "cell_type": "code",
   "execution_count": 34,
   "id": "a64a513b",
   "metadata": {},
   "outputs": [],
   "source": [
    "x_train, x_val, y_train, y_val = train_test_split(x_train, y_train, test_size=0.25, random_state=3)"
   ]
  },
  {
   "cell_type": "code",
   "execution_count": 35,
   "id": "712e4e6b",
   "metadata": {},
   "outputs": [],
   "source": [
    "#design the model\n",
    "model = models.Sequential([\n",
    "  layers.Conv2D(16, kernel_size=3, padding='same', activation='relu', input_shape=(200, 200, 3)),\n",
    "  layers.MaxPooling2D(pool_size=2),\n",
    "  layers.Conv2D(32, kernel_size=3, padding='same', activation='relu'),\n",
    "  layers.MaxPooling2D(pool_size=2),\n",
    "  layers.Conv2D(64, kernel_size=3, padding='same', activation='relu'),\n",
    "  layers.MaxPooling2D(pool_size=2),\n",
    "  layers.Flatten(),\n",
    "  layers.Dense(units=128, activation='relu'),\n",
    "  layers.Dropout(0.5),\n",
    "  layers.Dense(units=64, activation='relu'),\n",
    "  layers.Dropout(0.5),\n",
    "  layers.Dense(1, activation=\"sigmoid\")\n",
    "])\n"
   ]
  },
  {
   "cell_type": "code",
   "execution_count": 7,
   "id": "c7f2f64e",
   "metadata": {},
   "outputs": [
    {
     "name": "stdout",
     "output_type": "stream",
     "text": [
      "Model: \"sequential\"\n",
      "_________________________________________________________________\n",
      "Layer (type)                 Output Shape              Param #   \n",
      "=================================================================\n",
      "conv2d (Conv2D)              (None, 200, 200, 16)      448       \n",
      "_________________________________________________________________\n",
      "max_pooling2d (MaxPooling2D) (None, 100, 100, 16)      0         \n",
      "_________________________________________________________________\n",
      "conv2d_1 (Conv2D)            (None, 100, 100, 32)      4640      \n",
      "_________________________________________________________________\n",
      "max_pooling2d_1 (MaxPooling2 (None, 50, 50, 32)        0         \n",
      "_________________________________________________________________\n",
      "conv2d_2 (Conv2D)            (None, 50, 50, 64)        18496     \n",
      "_________________________________________________________________\n",
      "max_pooling2d_2 (MaxPooling2 (None, 25, 25, 64)        0         \n",
      "_________________________________________________________________\n",
      "flatten (Flatten)            (None, 40000)             0         \n",
      "_________________________________________________________________\n",
      "dense (Dense)                (None, 128)               5120128   \n",
      "_________________________________________________________________\n",
      "dropout (Dropout)            (None, 128)               0         \n",
      "_________________________________________________________________\n",
      "dense_1 (Dense)              (None, 64)                8256      \n",
      "_________________________________________________________________\n",
      "dropout_1 (Dropout)          (None, 64)                0         \n",
      "_________________________________________________________________\n",
      "dense_2 (Dense)              (None, 1)                 65        \n",
      "=================================================================\n",
      "Total params: 5,152,033\n",
      "Trainable params: 5,152,033\n",
      "Non-trainable params: 0\n",
      "_________________________________________________________________\n"
     ]
    }
   ],
   "source": [
    "model.summary()"
   ]
  },
  {
   "cell_type": "code",
   "execution_count": 36,
   "id": "305faebd",
   "metadata": {},
   "outputs": [
    {
     "name": "stdout",
     "output_type": "stream",
     "text": [
      "Epoch 1/20\n",
      "57/57 [==============================] - 2s 25ms/step - loss: 0.4981 - accuracy: 0.8306 - val_loss: 0.3405 - val_accuracy: 0.8600\n",
      "Epoch 2/20\n",
      "57/57 [==============================] - 1s 24ms/step - loss: 0.3551 - accuracy: 0.8500 - val_loss: 0.2606 - val_accuracy: 0.8700\n",
      "Epoch 3/20\n",
      "57/57 [==============================] - 2s 28ms/step - loss: 0.2638 - accuracy: 0.8789 - val_loss: 0.2069 - val_accuracy: 0.9050\n",
      "Epoch 4/20\n",
      "57/57 [==============================] - 1s 23ms/step - loss: 0.2207 - accuracy: 0.8939 - val_loss: 0.1837 - val_accuracy: 0.9233\n",
      "Epoch 5/20\n",
      "57/57 [==============================] - 1s 23ms/step - loss: 0.1854 - accuracy: 0.9178 - val_loss: 0.1597 - val_accuracy: 0.9233\n",
      "Epoch 6/20\n",
      "57/57 [==============================] - 1s 23ms/step - loss: 0.1514 - accuracy: 0.9372 - val_loss: 0.1528 - val_accuracy: 0.9283\n",
      "Epoch 7/20\n",
      "57/57 [==============================] - 1s 23ms/step - loss: 0.1275 - accuracy: 0.9483 - val_loss: 0.1480 - val_accuracy: 0.9383\n",
      "Epoch 8/20\n",
      "57/57 [==============================] - 1s 23ms/step - loss: 0.0936 - accuracy: 0.9606 - val_loss: 0.1473 - val_accuracy: 0.9367\n",
      "Epoch 9/20\n",
      "57/57 [==============================] - 1s 23ms/step - loss: 0.0702 - accuracy: 0.9717 - val_loss: 0.1464 - val_accuracy: 0.9517\n",
      "Epoch 10/20\n",
      "57/57 [==============================] - 1s 23ms/step - loss: 0.0490 - accuracy: 0.9811 - val_loss: 0.1584 - val_accuracy: 0.9550\n",
      "Epoch 11/20\n",
      "57/57 [==============================] - 1s 23ms/step - loss: 0.0460 - accuracy: 0.9833 - val_loss: 0.1736 - val_accuracy: 0.9600\n",
      "Epoch 12/20\n",
      "57/57 [==============================] - 1s 23ms/step - loss: 0.0370 - accuracy: 0.9861 - val_loss: 0.1958 - val_accuracy: 0.9417\n",
      "Epoch 13/20\n",
      "57/57 [==============================] - 1s 23ms/step - loss: 0.0300 - accuracy: 0.9900 - val_loss: 0.2046 - val_accuracy: 0.9517\n",
      "Epoch 14/20\n",
      "57/57 [==============================] - 1s 23ms/step - loss: 0.0231 - accuracy: 0.9872 - val_loss: 0.1868 - val_accuracy: 0.9583\n",
      "Epoch 15/20\n",
      "57/57 [==============================] - 1s 23ms/step - loss: 0.0283 - accuracy: 0.9889 - val_loss: 0.2459 - val_accuracy: 0.9517\n",
      "Epoch 16/20\n",
      "57/57 [==============================] - 1s 23ms/step - loss: 0.0235 - accuracy: 0.9911 - val_loss: 0.1799 - val_accuracy: 0.9600\n",
      "Epoch 17/20\n",
      "57/57 [==============================] - 1s 23ms/step - loss: 0.0169 - accuracy: 0.9939 - val_loss: 0.2495 - val_accuracy: 0.9517\n",
      "Epoch 18/20\n",
      "57/57 [==============================] - 1s 23ms/step - loss: 0.0103 - accuracy: 0.9950 - val_loss: 0.2509 - val_accuracy: 0.9583\n",
      "Epoch 19/20\n",
      "57/57 [==============================] - 1s 23ms/step - loss: 0.0143 - accuracy: 0.9939 - val_loss: 0.2343 - val_accuracy: 0.9567\n",
      "Epoch 20/20\n",
      "57/57 [==============================] - 1s 25ms/step - loss: 0.0123 - accuracy: 0.9956 - val_loss: 0.2725 - val_accuracy: 0.9567\n"
     ]
    }
   ],
   "source": [
    "model.compile(loss=\"binary_crossentropy\", optimizer=\"adam\",metrics=[\"accuracy\"])\n",
    "history = model.fit(x_train, y_train, epochs=20, validation_data=(x_val, y_val))"
   ]
  },
  {
   "cell_type": "code",
   "execution_count": 37,
   "id": "1c4859a2",
   "metadata": {},
   "outputs": [
    {
     "data": {
      "image/png": "[encoded data removed]",
      "text/plain": [
       "<Figure size 432x288 with 1 Axes>"
      ]
     },
     "metadata": {
      "needs_background": "light"
     },
     "output_type": "display_data"
    },
    {
     "name": "stdout",
     "output_type": "stream",
     "text": [
      "19/19 - 0s - loss: 0.1169 - accuracy: 0.9617\n"
     ]
    }
   ],
   "source": [
    "plt.plot(history.history['accuracy'], label='accuracy')\n",
    "plt.plot(history.history['val_accuracy'], label = 'val_accuracy')\n",
    "plt.xlabel('Epoch')\n",
    "plt.ylabel('Accuracy')\n",
    "plt.ylim([0.5, 1])\n",
    "plt.legend(loc='lower right')\n",
    "plt.show()\n",
    "\n",
    "test_loss, test_acc = model.evaluate(x_test, y_test, verbose=2)"
   ]
  },
  {
   "cell_type": "code",
   "execution_count": 38,
   "id": "99208715",
   "metadata": {},
   "outputs": [
    {
     "name": "stdout",
     "output_type": "stream",
     "text": [
      "0.9616666436195374\n"
     ]
    }
   ],
   "source": [
    "print(test_acc)"
   ]
  },
  {
   "cell_type": "code",
   "execution_count": 39,
   "id": "9326b16d",
   "metadata": {},
   "outputs": [
    {
     "data": {
      "image/png": "[encoded data removed]",
      "text/plain": [
       "<Figure size 576x360 with 1 Axes>"
      ]
     },
     "metadata": {
      "needs_background": "light"
     },
     "output_type": "display_data"
    }
   ],
   "source": [
    "import pandas as pd\n",
    "pd.DataFrame(history.history).plot(figsize=(8, 5))\n",
    "plt.grid(True)\n",
    "plt.gca().set_ylim(0, 1)\n",
    "plt.show()"
   ]
  },
  {
   "cell_type": "code",
   "execution_count": null,
   "id": "b0373e1a",
   "metadata": {},
   "outputs": [],
   "source": []
  }
 ],
 "metadata": {
  "kernelspec": {
   "display_name": "Python 3 (ipykernel)",
   "language": "python",
   "name": "python3"
  },
  "language_info": {
   "codemirror_mode": {
    "name": "ipython",
    "version": 3
   },
   "file_extension": ".py",
   "mimetype": "text/x-python",
   "name": "python",
   "nbconvert_exporter": "python",
   "pygments_lexer": "ipython3",
   "version": "3.8.11"
  },
  "latex_envs": {
   "LaTeX_envs_menu_present": true,
   "autoclose": false,
   "autocomplete": true,
   "bibliofile": "biblio.bib",
   "cite_by": "apalike",
   "current_citInitial": 1,
   "eqLabelWithNumbers": true,
   "eqNumInitial": 1,
   "hotkeys": {
    "equation": "Ctrl-E",
    "itemize": "Ctrl-I"
   },
   "labels_anchors": false,
   "latex_user_defs": false,
   "report_style_numbering": false,
   "user_envs_cfg": false
  }
 },
 "nbformat": 4,
 "nbformat_minor": 5
}
