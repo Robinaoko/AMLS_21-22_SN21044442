{
 "cells": [
  {
   "cell_type": "code",
   "execution_count": 12,
   "id": "e40830e4",
   "metadata": {},
   "outputs": [],
   "source": [
    "import pandas as pd\n",
    "import numpy as np\n",
    "import matplotlib.pyplot as plt"
   ]
  },
  {
   "cell_type": "code",
   "execution_count": 13,
   "id": "072a228d",
   "metadata": {},
   "outputs": [],
   "source": [
    "tumor_label=pd.read_csv('AMLS-2021_dataset/dataset/label.csv')"
   ]
  },
  {
   "cell_type": "code",
   "execution_count": 14,
   "id": "3d6a878a",
   "metadata": {},
   "outputs": [
    {
     "data": {
      "text/html": [
       "<div>\n",
       "<style scoped>\n",
       "    .dataframe tbody tr th:only-of-type {\n",
       "        vertical-align: middle;\n",
       "    }\n",
       "\n",
       "    .dataframe tbody tr th {\n",
       "        vertical-align: top;\n",
       "    }\n",
       "\n",
       "    .dataframe thead th {\n",
       "        text-align: right;\n",
       "    }\n",
       "</style>\n",
       "<table border=\"1\" class=\"dataframe\">\n",
       "  <thead>\n",
       "    <tr style=\"text-align: right;\">\n",
       "      <th></th>\n",
       "      <th>file_name</th>\n",
       "      <th>label</th>\n",
       "    </tr>\n",
       "  </thead>\n",
       "  <tbody>\n",
       "    <tr>\n",
       "      <th>0</th>\n",
       "      <td>IMAGE_0000.jpg</td>\n",
       "      <td>meningioma_tumor</td>\n",
       "    </tr>\n",
       "    <tr>\n",
       "      <th>1</th>\n",
       "      <td>IMAGE_0001.jpg</td>\n",
       "      <td>no_tumor</td>\n",
       "    </tr>\n",
       "    <tr>\n",
       "      <th>2</th>\n",
       "      <td>IMAGE_0002.jpg</td>\n",
       "      <td>meningioma_tumor</td>\n",
       "    </tr>\n",
       "    <tr>\n",
       "      <th>3</th>\n",
       "      <td>IMAGE_0003.jpg</td>\n",
       "      <td>glioma_tumor</td>\n",
       "    </tr>\n",
       "    <tr>\n",
       "      <th>4</th>\n",
       "      <td>IMAGE_0004.jpg</td>\n",
       "      <td>meningioma_tumor</td>\n",
       "    </tr>\n",
       "  </tbody>\n",
       "</table>\n",
       "</div>"
      ],
      "text/plain": [
       "        file_name             label\n",
       "0  IMAGE_0000.jpg  meningioma_tumor\n",
       "1  IMAGE_0001.jpg          no_tumor\n",
       "2  IMAGE_0002.jpg  meningioma_tumor\n",
       "3  IMAGE_0003.jpg      glioma_tumor\n",
       "4  IMAGE_0004.jpg  meningioma_tumor"
      ]
     },
     "execution_count": 14,
     "metadata": {},
     "output_type": "execute_result"
    }
   ],
   "source": [
    "tumor_label.head()"
   ]
  },
  {
   "cell_type": "code",
   "execution_count": 62,
   "id": "292cb053",
   "metadata": {},
   "outputs": [
    {
     "data": {
      "text/plain": [
       "'no_tumor'"
      ]
     },
     "execution_count": 62,
     "metadata": {},
     "output_type": "execute_result"
    }
   ],
   "source": [
    "tumor_label.label[20]"
   ]
  },
  {
   "cell_type": "code",
   "execution_count": 66,
   "id": "2cf832cf",
   "metadata": {},
   "outputs": [
    {
     "data": {
      "text/html": [
       "<div>\n",
       "<style scoped>\n",
       "    .dataframe tbody tr th:only-of-type {\n",
       "        vertical-align: middle;\n",
       "    }\n",
       "\n",
       "    .dataframe tbody tr th {\n",
       "        vertical-align: top;\n",
       "    }\n",
       "\n",
       "    .dataframe thead th {\n",
       "        text-align: right;\n",
       "    }\n",
       "</style>\n",
       "<table border=\"1\" class=\"dataframe\">\n",
       "  <thead>\n",
       "    <tr style=\"text-align: right;\">\n",
       "      <th></th>\n",
       "      <th>file_name</th>\n",
       "      <th>label</th>\n",
       "    </tr>\n",
       "  </thead>\n",
       "  <tbody>\n",
       "    <tr>\n",
       "      <th>count</th>\n",
       "      <td>3000</td>\n",
       "      <td>3000</td>\n",
       "    </tr>\n",
       "    <tr>\n",
       "      <th>unique</th>\n",
       "      <td>3000</td>\n",
       "      <td>4</td>\n",
       "    </tr>\n",
       "    <tr>\n",
       "      <th>top</th>\n",
       "      <td>IMAGE_0000.jpg</td>\n",
       "      <td>glioma_tumor</td>\n",
       "    </tr>\n",
       "    <tr>\n",
       "      <th>freq</th>\n",
       "      <td>1</td>\n",
       "      <td>860</td>\n",
       "    </tr>\n",
       "  </tbody>\n",
       "</table>\n",
       "</div>"
      ],
      "text/plain": [
       "             file_name         label\n",
       "count             3000          3000\n",
       "unique            3000             4\n",
       "top     IMAGE_0000.jpg  glioma_tumor\n",
       "freq                 1           860"
      ]
     },
     "execution_count": 66,
     "metadata": {},
     "output_type": "execute_result"
    }
   ],
   "source": [
    "tumor_label.describe()"
   ]
  },
  {
   "cell_type": "code",
   "execution_count": 53,
   "id": "d6e2fab5",
   "metadata": {},
   "outputs": [
    {
     "name": "stdout",
     "output_type": "stream",
     "text": [
      "3000\n"
     ]
    }
   ],
   "source": [
    "#Place the images in different folders according to labels\n",
    "  \n",
    "import os\n",
    "import shutil\n",
    "import numpy as np\n",
    "import pandas as pd\n",
    "\n",
    "path_img='./AMLS-2021_dataset/dataset/image'\n",
    "ls = os.listdir(path_img)\n",
    "lenl=len(ls)\n",
    "print(len(ls))\n"
   ]
  },
  {
   "cell_type": "code",
   "execution_count": 55,
   "id": "858e30a1",
   "metadata": {
    "scrolled": false
   },
   "outputs": [
    {
     "name": "stdout",
     "output_type": "stream",
     "text": [
      "(3000, 2) 3000 ['meningioma_tumor' 'no_tumor' 'meningioma_tumor' ... 'glioma_tumor'\n",
      " 'glioma_tumor' 'pituitary_tumor']\n"
     ]
    }
   ],
   "source": [
    "train_labels= pd.read_csv('./AMLS-2021_dataset/dataset/label.csv')\n",
    "train_labels.head()\n",
    "\n",
    "labels = train_labels.label.values\n",
    "name = train_labels.file_name.values\n",
    "print(train_labels.shape,train_labels.shape[0])\n",
    "  \n",
    "for i in range(lenl):\n",
    "    k = str(i)\n",
    "    m = k.zfill(4)\n",
    "    if labels[i]=='no_tumor':\n",
    "        shutil.move(path_img+'/'+'IMAGE_'+str(m) + \".jpg\",\"./AMLS-2021_dataset/dataset/no_tumor/\"+ str(name[i]) )\n",
    "    else:\n",
    "        shutil.move(path_img+'/'+'IMAGE_'+str(m) + \".jpg\",\"./AMLS-2021_dataset/dataset/tumor/\"+ str(name[i]) )"
   ]
  },
  {
   "cell_type": "code",
   "execution_count": 64,
   "id": "8c285ca0",
   "metadata": {},
   "outputs": [
    {
     "name": "stdout",
     "output_type": "stream",
     "text": [
      "2546\n"
     ]
    }
   ],
   "source": [
    "path_img='./AMLS-2021_dataset/dataset/tumor'\n",
    "ls2 = os.listdir(path_img)\n",
    "len2=len(ls2)\n",
    "print(len(ls2))"
   ]
  },
  {
   "cell_type": "code",
   "execution_count": 65,
   "id": "a38d6508",
   "metadata": {},
   "outputs": [
    {
     "name": "stdout",
     "output_type": "stream",
     "text": [
      "454\n"
     ]
    }
   ],
   "source": [
    "path_img='./AMLS-2021_dataset/dataset/no_tumor'\n",
    "ls3 = os.listdir(path_img)\n",
    "len3=len(ls3)\n",
    "print(len(ls3))"
   ]
  },
  {
   "cell_type": "code",
   "execution_count": null,
   "id": "e5a43f9c",
   "metadata": {},
   "outputs": [],
   "source": []
  }
 ],
 "metadata": {
  "kernelspec": {
   "display_name": "Python 3 (ipykernel)",
   "language": "python",
   "name": "python3"
  },
  "language_info": {
   "codemirror_mode": {
    "name": "ipython",
    "version": 3
   },
   "file_extension": ".py",
   "mimetype": "text/x-python",
   "name": "python",
   "nbconvert_exporter": "python",
   "pygments_lexer": "ipython3",
   "version": "3.8.11"
  },
  "latex_envs": {
   "LaTeX_envs_menu_present": true,
   "autoclose": false,
   "autocomplete": true,
   "bibliofile": "biblio.bib",
   "cite_by": "apalike",
   "current_citInitial": 1,
   "eqLabelWithNumbers": true,
   "eqNumInitial": 1,
   "hotkeys": {
    "equation": "Ctrl-E",
    "itemize": "Ctrl-I"
   },
   "labels_anchors": false,
   "latex_user_defs": false,
   "report_style_numbering": false,
   "user_envs_cfg": false
  }
 },
 "nbformat": 4,
 "nbformat_minor": 5
}
