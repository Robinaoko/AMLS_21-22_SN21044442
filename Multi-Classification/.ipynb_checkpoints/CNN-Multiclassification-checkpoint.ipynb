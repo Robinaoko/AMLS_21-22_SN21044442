{
 "cells": [
  {
   "cell_type": "code",
   "execution_count": 1,
   "id": "344ff852",
   "metadata": {},
   "outputs": [],
   "source": [
    "import numpy as np\n",
    "import pandas as pd\n",
    "import matplotlib.pyplot as plt\n",
    "\n",
    "from sklearn import svm, metrics\n",
    "from sklearn.utils import Bunch\n",
    "from sklearn.model_selection import GridSearchCV, train_test_split\n",
    "from sklearn.metrics import classification_report,accuracy_score\n",
    "from sklearn.decomposition import PCA\n",
    "import tensorflow as tf\n",
    "from tensorflow import keras\n",
    "from tensorflow.keras import layers, models\n",
    "\n",
    "\n",
    "import skimage.io as io\n",
    "from skimage.io import imread\n",
    "from skimage.transform import resize\n",
    "from PIL import Image\n",
    "\n",
    "import os\n",
    "from tqdm import tqdm\n",
    "from glob import glob"
   ]
  },
  {
   "cell_type": "code",
   "execution_count": 2,
   "id": "5014c761",
   "metadata": {},
   "outputs": [
    {
     "name": "stderr",
     "output_type": "stream",
     "text": [
      "100%|██████████| 3000/3000 [00:13<00:00, 230.14it/s]\n"
     ]
    }
   ],
   "source": [
    "#导入图像并转化为numpy数组\n",
    "train_path = 'image/'\n",
    "tumor_label=pd.read_csv('label.csv')\n",
    "img_size = 200\n",
    "label = []\n",
    "nub_train = len(glob(train_path + '/*.jpg'))\n",
    "image_data = np.zeros((nub_train,img_size,img_size,3),dtype=np.uint8)\n",
    "\n",
    "i = 0   \n",
    "for img_path in tqdm(glob(train_path + '/*.jpg')):\n",
    "    img = Image.open(img_path)\n",
    "    img = img.resize((img_size,img_size)) #图片resize\n",
    "    arr = np.asarray(img) #图片转array\n",
    "    image_data[i, :, :, :] = arr #赋值\n",
    "    i += 1\n",
    "\n",
    "for i in range(3000):\n",
    "    data = tumor_label['label'][i]\n",
    "    if data == 'no_tumor':\n",
    "        #label.append(data)\n",
    "        label.append(0)\n",
    "    elif data == 'meningioma_tumor':\n",
    "        #label.append('meningioma_tumor')\n",
    "        label.append(1)\n",
    "    elif data == 'glioma_tumor':\n",
    "        #label.append('glioma_tumor')\n",
    "        label.append(2)\n",
    "    elif data == 'pituitary_tumor':\n",
    "        #label.append('pituitary_tumor')\n",
    "        label.append(3)\n",
    "        \n",
    "image_data = np.array(image_data,dtype='float32')/255.0\n",
    "label = np.array(label)"
   ]
  },
  {
   "cell_type": "code",
   "execution_count": 3,
   "id": "af737691",
   "metadata": {},
   "outputs": [],
   "source": [
    "#new_image = np.delete(image_data, [1,2], axis=3 )"
   ]
  },
  {
   "cell_type": "code",
   "execution_count": 4,
   "id": "72e0b27b",
   "metadata": {},
   "outputs": [],
   "source": [
    "x_train, x_test, y_train, y_test = train_test_split(image_data, label, test_size=0.2, random_state=3)"
   ]
  },
  {
   "cell_type": "code",
   "execution_count": 5,
   "id": "63032ac1",
   "metadata": {},
   "outputs": [],
   "source": [
    "x_train, x_val, y_train, y_val = train_test_split(x_train, y_train, test_size=0.25, random_state=3)"
   ]
  },
  {
   "cell_type": "code",
   "execution_count": 6,
   "id": "a226b5b7",
   "metadata": {},
   "outputs": [],
   "source": [
    "model = models.Sequential([\n",
    "  layers.Conv2D(32, kernel_size=3, padding='same', activation='relu', input_shape=(200, 200, 3)),\n",
    "  layers.MaxPooling2D(pool_size=2),\n",
    "  layers.Conv2D(64, kernel_size=3, padding='same', activation='relu'),\n",
    "  layers.Conv2D(64, kernel_size=3, padding='same', activation='relu'),\n",
    "  layers.MaxPooling2D(pool_size=2),\n",
    "  layers.Conv2D(128, kernel_size=3, padding='same', activation='relu'),\n",
    "  layers.Conv2D(128, kernel_size=3, padding='same', activation='relu'),\n",
    "  layers.MaxPooling2D(pool_size=2),\n",
    "  layers.Flatten(),\n",
    "  layers.Dense(units=128, activation='relu'),\n",
    "  layers.Dropout(0.5),\n",
    "  layers.Dense(units=64, activation='relu'),\n",
    "  layers.Dropout(0.5),\n",
    "  layers.Dense(4, activation=\"softmax\")\n",
    "])"
   ]
  },
  {
   "cell_type": "code",
   "execution_count": 7,
   "id": "1aa160ea",
   "metadata": {},
   "outputs": [
    {
     "name": "stdout",
     "output_type": "stream",
     "text": [
      "Model: \"sequential\"\n",
      "_________________________________________________________________\n",
      "Layer (type)                 Output Shape              Param #   \n",
      "=================================================================\n",
      "conv2d (Conv2D)              (None, 200, 200, 32)      896       \n",
      "_________________________________________________________________\n",
      "max_pooling2d (MaxPooling2D) (None, 100, 100, 32)      0         \n",
      "_________________________________________________________________\n",
      "conv2d_1 (Conv2D)            (None, 100, 100, 64)      18496     \n",
      "_________________________________________________________________\n",
      "conv2d_2 (Conv2D)            (None, 100, 100, 64)      36928     \n",
      "_________________________________________________________________\n",
      "max_pooling2d_1 (MaxPooling2 (None, 50, 50, 64)        0         \n",
      "_________________________________________________________________\n",
      "conv2d_3 (Conv2D)            (None, 50, 50, 128)       73856     \n",
      "_________________________________________________________________\n",
      "conv2d_4 (Conv2D)            (None, 50, 50, 128)       147584    \n",
      "_________________________________________________________________\n",
      "max_pooling2d_2 (MaxPooling2 (None, 25, 25, 128)       0         \n",
      "_________________________________________________________________\n",
      "flatten (Flatten)            (None, 80000)             0         \n",
      "_________________________________________________________________\n",
      "dense (Dense)                (None, 128)               10240128  \n",
      "_________________________________________________________________\n",
      "dropout (Dropout)            (None, 128)               0         \n",
      "_________________________________________________________________\n",
      "dense_1 (Dense)              (None, 64)                8256      \n",
      "_________________________________________________________________\n",
      "dropout_1 (Dropout)          (None, 64)                0         \n",
      "_________________________________________________________________\n",
      "dense_2 (Dense)              (None, 4)                 260       \n",
      "=================================================================\n",
      "Total params: 10,526,404\n",
      "Trainable params: 10,526,404\n",
      "Non-trainable params: 0\n",
      "_________________________________________________________________\n"
     ]
    }
   ],
   "source": [
    "model.summary()"
   ]
  },
  {
   "cell_type": "code",
   "execution_count": 8,
   "id": "22dd4043",
   "metadata": {},
   "outputs": [
    {
     "name": "stdout",
     "output_type": "stream",
     "text": [
      "Epoch 1/30\n"
     ]
    },
    {
     "name": "stderr",
     "output_type": "stream",
     "text": [
      "C:\\Users\\10992\\AppData\\Roaming\\Python\\Python38\\site-packages\\tensorflow\\python\\keras\\backend.py:4929: UserWarning: \"`sparse_categorical_crossentropy` received `from_logits=True`, but the `output` argument was produced by a sigmoid or softmax activation and thus does not represent logits. Was this intended?\"\n",
      "  warnings.warn(\n"
     ]
    },
    {
     "name": "stdout",
     "output_type": "stream",
     "text": [
      "57/57 [==============================] - 11s 79ms/step - loss: 1.3337 - accuracy: 0.3767 - val_loss: 1.1732 - val_accuracy: 0.5167\n",
      "Epoch 2/30\n",
      "57/57 [==============================] - 3s 60ms/step - loss: 1.1485 - accuracy: 0.4972 - val_loss: 0.8922 - val_accuracy: 0.6100\n",
      "Epoch 3/30\n",
      "57/57 [==============================] - 3s 59ms/step - loss: 0.9973 - accuracy: 0.5728 - val_loss: 0.8165 - val_accuracy: 0.6717\n",
      "Epoch 4/30\n",
      "57/57 [==============================] - 3s 57ms/step - loss: 0.8799 - accuracy: 0.6322 - val_loss: 0.7930 - val_accuracy: 0.6917\n",
      "Epoch 5/30\n",
      "57/57 [==============================] - 3s 57ms/step - loss: 0.7820 - accuracy: 0.6778 - val_loss: 0.6585 - val_accuracy: 0.7183\n",
      "Epoch 6/30\n",
      "57/57 [==============================] - 3s 56ms/step - loss: 0.6770 - accuracy: 0.7028 - val_loss: 0.6591 - val_accuracy: 0.7517\n",
      "Epoch 7/30\n",
      "57/57 [==============================] - 3s 56ms/step - loss: 0.6479 - accuracy: 0.7378 - val_loss: 0.5939 - val_accuracy: 0.7883\n",
      "Epoch 8/30\n",
      "57/57 [==============================] - 3s 58ms/step - loss: 0.5671 - accuracy: 0.7694 - val_loss: 0.5557 - val_accuracy: 0.7900\n",
      "Epoch 9/30\n",
      "57/57 [==============================] - 3s 57ms/step - loss: 0.5165 - accuracy: 0.8044 - val_loss: 0.5400 - val_accuracy: 0.8183\n",
      "Epoch 10/30\n",
      "57/57 [==============================] - 3s 61ms/step - loss: 0.4723 - accuracy: 0.8072 - val_loss: 0.5850 - val_accuracy: 0.7883\n",
      "Epoch 11/30\n",
      "57/57 [==============================] - 3s 58ms/step - loss: 0.3964 - accuracy: 0.8439 - val_loss: 0.5437 - val_accuracy: 0.8033\n",
      "Epoch 12/30\n",
      "57/57 [==============================] - 3s 57ms/step - loss: 0.3628 - accuracy: 0.8578 - val_loss: 0.5463 - val_accuracy: 0.8167\n",
      "Epoch 13/30\n",
      "57/57 [==============================] - 3s 58ms/step - loss: 0.2953 - accuracy: 0.8856 - val_loss: 0.5923 - val_accuracy: 0.8283\n",
      "Epoch 14/30\n",
      "57/57 [==============================] - 3s 57ms/step - loss: 0.2601 - accuracy: 0.8978 - val_loss: 0.6949 - val_accuracy: 0.8133\n",
      "Epoch 15/30\n",
      "57/57 [==============================] - 3s 58ms/step - loss: 0.2933 - accuracy: 0.8878 - val_loss: 0.5742 - val_accuracy: 0.8117\n",
      "Epoch 16/30\n",
      "57/57 [==============================] - 3s 60ms/step - loss: 0.2446 - accuracy: 0.9044 - val_loss: 0.5740 - val_accuracy: 0.8450\n",
      "Epoch 17/30\n",
      "57/57 [==============================] - 4s 66ms/step - loss: 0.2702 - accuracy: 0.9039 - val_loss: 0.6845 - val_accuracy: 0.7867\n",
      "Epoch 18/30\n",
      "57/57 [==============================] - 4s 71ms/step - loss: 0.2241 - accuracy: 0.9244 - val_loss: 0.5705 - val_accuracy: 0.8433\n",
      "Epoch 19/30\n",
      "57/57 [==============================] - 4s 72ms/step - loss: 0.1609 - accuracy: 0.9361 - val_loss: 0.8389 - val_accuracy: 0.8233\n",
      "Epoch 20/30\n",
      "57/57 [==============================] - 3s 58ms/step - loss: 0.1811 - accuracy: 0.9289 - val_loss: 0.7006 - val_accuracy: 0.8167\n",
      "Epoch 21/30\n",
      "57/57 [==============================] - 3s 58ms/step - loss: 0.1519 - accuracy: 0.9378 - val_loss: 0.5707 - val_accuracy: 0.8317\n",
      "Epoch 22/30\n",
      "57/57 [==============================] - 3s 58ms/step - loss: 0.1681 - accuracy: 0.9378 - val_loss: 0.9304 - val_accuracy: 0.7983\n",
      "Epoch 23/30\n",
      "57/57 [==============================] - 3s 57ms/step - loss: 0.1242 - accuracy: 0.9528 - val_loss: 0.7208 - val_accuracy: 0.8450\n",
      "Epoch 24/30\n",
      "57/57 [==============================] - 3s 58ms/step - loss: 0.1287 - accuracy: 0.9494 - val_loss: 0.6912 - val_accuracy: 0.8500\n",
      "Epoch 25/30\n",
      "57/57 [==============================] - 3s 58ms/step - loss: 0.1246 - accuracy: 0.9522 - val_loss: 0.7529 - val_accuracy: 0.8350\n",
      "Epoch 26/30\n",
      "57/57 [==============================] - 3s 61ms/step - loss: 0.1268 - accuracy: 0.9517 - val_loss: 1.0130 - val_accuracy: 0.8150\n",
      "Epoch 27/30\n",
      "57/57 [==============================] - 4s 70ms/step - loss: 0.1647 - accuracy: 0.9389 - val_loss: 0.6231 - val_accuracy: 0.8317\n",
      "Epoch 28/30\n",
      "57/57 [==============================] - 4s 72ms/step - loss: 0.1159 - accuracy: 0.9517 - val_loss: 0.7468 - val_accuracy: 0.8500\n",
      "Epoch 29/30\n",
      "57/57 [==============================] - 4s 63ms/step - loss: 0.1114 - accuracy: 0.9578 - val_loss: 0.8595 - val_accuracy: 0.8333\n",
      "Epoch 30/30\n",
      "57/57 [==============================] - 3s 59ms/step - loss: 0.0984 - accuracy: 0.9606 - val_loss: 0.8032 - val_accuracy: 0.8450\n"
     ]
    }
   ],
   "source": [
    "model.compile(optimizer='adam', loss=tf.keras.losses.SparseCategoricalCrossentropy(from_logits=True),metrics=['accuracy'])\n",
    "history = model.fit(x_train, y_train, epochs=30, validation_data=(x_val, y_val))"
   ]
  },
  {
   "cell_type": "code",
   "execution_count": 9,
   "id": "0452aac3",
   "metadata": {
    "scrolled": true
   },
   "outputs": [
    {
     "data": {
      "image/png": "[encoded data removed]",
      "text/plain": [
       "<Figure size 432x288 with 1 Axes>"
      ]
     },
     "metadata": {
      "needs_background": "light"
     },
     "output_type": "display_data"
    },
    {
     "name": "stdout",
     "output_type": "stream",
     "text": [
      "19/19 - 0s - loss: 0.7759 - accuracy: 0.8633\n"
     ]
    }
   ],
   "source": [
    "plt.plot(history.history['accuracy'], label='accuracy')\n",
    "plt.plot(history.history['val_accuracy'], label = 'val_accuracy')\n",
    "plt.xlabel('Epoch')\n",
    "plt.ylabel('Accuracy')\n",
    "plt.ylim([0.5, 1])\n",
    "plt.legend(loc='lower right')\n",
    "plt.show()\n",
    "\n",
    "test_loss, test_acc = model.evaluate(x_test, y_test, verbose=2)"
   ]
  },
  {
   "cell_type": "code",
   "execution_count": 10,
   "id": "c92e1fc5",
   "metadata": {},
   "outputs": [
    {
     "name": "stdout",
     "output_type": "stream",
     "text": [
      "0.8633333444595337\n"
     ]
    }
   ],
   "source": [
    "print(test_acc)"
   ]
  },
  {
   "cell_type": "code",
   "execution_count": null,
   "id": "3badad88",
   "metadata": {},
   "outputs": [],
   "source": []
  }
 ],
 "metadata": {
  "kernelspec": {
   "display_name": "Python 3 (ipykernel)",
   "language": "python",
   "name": "python3"
  },
  "language_info": {
   "codemirror_mode": {
    "name": "ipython",
    "version": 3
   },
   "file_extension": ".py",
   "mimetype": "text/x-python",
   "name": "python",
   "nbconvert_exporter": "python",
   "pygments_lexer": "ipython3",
   "version": "3.8.11"
  },
  "latex_envs": {
   "LaTeX_envs_menu_present": true,
   "autoclose": false,
   "autocomplete": true,
   "bibliofile": "biblio.bib",
   "cite_by": "apalike",
   "current_citInitial": 1,
   "eqLabelWithNumbers": true,
   "eqNumInitial": 1,
   "hotkeys": {
    "equation": "Ctrl-E",
    "itemize": "Ctrl-I"
   },
   "labels_anchors": false,
   "latex_user_defs": false,
   "report_style_numbering": false,
   "user_envs_cfg": false
  }
 },
 "nbformat": 4,
 "nbformat_minor": 5
}
