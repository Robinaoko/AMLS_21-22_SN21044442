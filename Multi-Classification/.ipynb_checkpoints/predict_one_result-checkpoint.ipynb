{
 "cells": [
  {
   "cell_type": "code",
   "execution_count": 1,
   "id": "a8e12b76",
   "metadata": {},
   "outputs": [
    {
     "name": "stdout",
     "output_type": "stream",
     "text": [
      "------load the model------\n"
     ]
    },
    {
     "data": {
      "text/plain": [
       "-1"
      ]
     },
     "execution_count": 1,
     "metadata": {},
     "output_type": "execute_result"
    }
   ],
   "source": [
    "from keras.models import load_model\n",
    "import cv2\n",
    "\n",
    "#predict the image\n",
    "image = cv2.imread('./Data/test/image/IMAGE_0199.jpg')\n",
    "output = image.copy()\n",
    "image = cv2.resize(image, (224, 224))\n",
    "image = image.astype(\"float\") / 255.0\n",
    "image = image.reshape((1, image.shape[0], image.shape[1],image.shape[2]))\n",
    "\n",
    "# load the model\n",
    "print(\"------load the model------\")\n",
    "model = load_model('./output/xception_keras.model')\n",
    "# predict\n",
    "preds = model.predict(image)\n",
    "classes = ['glioma_tumor','meningioma_tumor','no_tumor','pituitary_tumor']\n",
    "i = preds.argmax(axis=1)[0]\n",
    "label = classes[i]\n",
    "\n",
    "# plot the results\n",
    "text = \"{}: {:.2f}%\".format(label, preds[0][i] * 100)\n",
    "cv2.putText(output, text, (10, 30), cv2.FONT_HERSHEY_SIMPLEX, 1.0,(255, 153, 0), 2)\n",
    "cv2.imshow(\"Image\", output)\n",
    "cv2.waitKey(0)"
   ]
  },
  {
   "cell_type": "code",
   "execution_count": null,
   "id": "5dd77489",
   "metadata": {},
   "outputs": [],
   "source": []
  }
 ],
 "metadata": {
  "kernelspec": {
   "display_name": "Python 3 (ipykernel)",
   "language": "python",
   "name": "python3"
  },
  "language_info": {
   "codemirror_mode": {
    "name": "ipython",
    "version": 3
   },
   "file_extension": ".py",
   "mimetype": "text/x-python",
   "name": "python",
   "nbconvert_exporter": "python",
   "pygments_lexer": "ipython3",
   "version": "3.8.11"
  },
  "latex_envs": {
   "LaTeX_envs_menu_present": true,
   "autoclose": false,
   "autocomplete": true,
   "bibliofile": "biblio.bib",
   "cite_by": "apalike",
   "current_citInitial": 1,
   "eqLabelWithNumbers": true,
   "eqNumInitial": 1,
   "hotkeys": {
    "equation": "Ctrl-E",
    "itemize": "Ctrl-I"
   },
   "labels_anchors": false,
   "latex_user_defs": false,
   "report_style_numbering": false,
   "user_envs_cfg": false
  }
 },
 "nbformat": 4,
 "nbformat_minor": 5
}
