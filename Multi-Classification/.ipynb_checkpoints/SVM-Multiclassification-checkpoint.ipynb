{
 "cells": [
  {
   "cell_type": "code",
   "execution_count": 2,
   "id": "b408997e",
   "metadata": {},
   "outputs": [],
   "source": [
    "import numpy as np\n",
    "import pandas as pd\n",
    "import matplotlib.pyplot as plt\n",
    "\n",
    "from sklearn import svm, metrics\n",
    "from sklearn.utils import Bunch\n",
    "from sklearn.model_selection import GridSearchCV, train_test_split\n",
    "from sklearn.svm import SVC\n",
    "from sklearn.metrics import classification_report,accuracy_score\n",
    "from sklearn.decomposition import PCA\n",
    "\n",
    "import skimage.io as io\n",
    "from skimage.io import imread\n",
    "from skimage.transform import resize\n",
    "from PIL import Image\n",
    "\n",
    "import os\n",
    "from tqdm import tqdm\n",
    "from glob import glob"
   ]
  },
  {
   "cell_type": "code",
   "execution_count": 4,
   "id": "22e98125",
   "metadata": {},
   "outputs": [
    {
     "name": "stderr",
     "output_type": "stream",
     "text": [
      "100%|██████████| 3000/3000 [00:12<00:00, 237.35it/s]\n"
     ]
    }
   ],
   "source": [
    "#导入图像并转化为numpy数组\n",
    "train_path = 'image/'\n",
    "tumor_label=pd.read_csv('label.csv')\n",
    "img_size = 200\n",
    "label = []\n",
    "nub_train = len(glob(train_path + '/*.jpg'))\n",
    "image_data = np.zeros((nub_train,img_size,img_size,3),dtype=np.uint8)\n",
    "\n",
    "i = 0   \n",
    "for img_path in tqdm(glob(train_path + '/*.jpg')):\n",
    "    img = Image.open(img_path)\n",
    "    img = img.resize((img_size,img_size)) #图片resize\n",
    "    arr = np.asarray(img) #图片转array\n",
    "    image_data[i, :, :, :] = arr #赋值\n",
    "    i += 1\n",
    "\n",
    "for i in range(3000):\n",
    "    data = tumor_label['label'][i]\n",
    "    if data == 'no_tumor':\n",
    "        label.append(data)\n",
    "    elif data == 'meningioma_tumor':\n",
    "        label.append('meningioma_tumor') \n",
    "    elif data == 'glioma_tumor':\n",
    "        label.append('glioma_tumor')\n",
    "    elif data == 'pituitary_tumor':\n",
    "        label.append('pituitary_tumor')\n",
    "image_data = np.array(image_data,dtype='float32')/255.0\n",
    "label = np.array(label)"
   ]
  },
  {
   "cell_type": "code",
   "execution_count": 7,
   "id": "2eee8fc6",
   "metadata": {},
   "outputs": [],
   "source": [
    "new_image = np.delete(image_data, [1,2], axis=3 )"
   ]
  },
  {
   "cell_type": "code",
   "execution_count": 8,
   "id": "b5d21277",
   "metadata": {},
   "outputs": [],
   "source": [
    "new_image = new_image.reshape(new_image.shape[0],-1)"
   ]
  },
  {
   "cell_type": "code",
   "execution_count": 9,
   "id": "2d9d290b",
   "metadata": {},
   "outputs": [
    {
     "name": "stdout",
     "output_type": "stream",
     "text": [
      "765\n"
     ]
    }
   ],
   "source": [
    "#保留百分之95 PCA降维\n",
    "def PCAPredict(X, k):\n",
    "    \n",
    "    pca = PCA(n_components=k)\n",
    "    X_new = pca.fit_transform(X)  \n",
    "    #Variance = pca.explained_variance_ratio_\n",
    "    ncomp = pca.n_components_\n",
    "    return X_new, ncomp\n",
    "\n",
    "k1 = 0.95\n",
    "X_new, ncomp = PCAPredict(new_image,k1)\n",
    "#print(Variance)\n",
    "print(ncomp)"
   ]
  },
  {
   "cell_type": "code",
   "execution_count": 10,
   "id": "8ceb3d67",
   "metadata": {},
   "outputs": [],
   "source": [
    "x_train, x_test, y_train, y_test = train_test_split(X_new, label, test_size=0.3, random_state=3)"
   ]
  },
  {
   "cell_type": "code",
   "execution_count": 14,
   "id": "d5bab179",
   "metadata": {},
   "outputs": [
    {
     "name": "stdout",
     "output_type": "stream",
     "text": [
      "0.8011111111111111\n"
     ]
    }
   ],
   "source": [
    "def SVM(x_train,y_train, x_test):\n",
    "    model = SVC(kernel='linear',C = 1.0)\n",
    "    model.fit(x_train,y_train)\n",
    "    y_pred = model.predict(x_test)\n",
    "    return y_pred\n",
    "\n",
    "y_pred=SVM(x_train,y_train, x_test)\n",
    "\n",
    "print(accuracy_score(y_test,y_pred))"
   ]
  },
  {
   "cell_type": "code",
   "execution_count": null,
   "id": "cd3a1de5",
   "metadata": {},
   "outputs": [],
   "source": []
  }
 ],
 "metadata": {
  "kernelspec": {
   "display_name": "Python 3 (ipykernel)",
   "language": "python",
   "name": "python3"
  },
  "language_info": {
   "codemirror_mode": {
    "name": "ipython",
    "version": 3
   },
   "file_extension": ".py",
   "mimetype": "text/x-python",
   "name": "python",
   "nbconvert_exporter": "python",
   "pygments_lexer": "ipython3",
   "version": "3.8.11"
  },
  "latex_envs": {
   "LaTeX_envs_menu_present": true,
   "autoclose": false,
   "autocomplete": true,
   "bibliofile": "biblio.bib",
   "cite_by": "apalike",
   "current_citInitial": 1,
   "eqLabelWithNumbers": true,
   "eqNumInitial": 1,
   "hotkeys": {
    "equation": "Ctrl-E",
    "itemize": "Ctrl-I"
   },
   "labels_anchors": false,
   "latex_user_defs": false,
   "report_style_numbering": false,
   "user_envs_cfg": false
  }
 },
 "nbformat": 4,
 "nbformat_minor": 5
}
